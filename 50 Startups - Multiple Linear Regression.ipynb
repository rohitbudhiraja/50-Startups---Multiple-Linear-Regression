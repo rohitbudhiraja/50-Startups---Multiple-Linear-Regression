{
 "cells": [
  {
   "cell_type": "code",
   "execution_count": 1,
   "id": "9f72c6c7",
   "metadata": {},
   "outputs": [],
   "source": [
    "import pandas as pd\n",
    "import numpy as np\n",
    "from sklearn import preprocessing\n",
    "from sklearn.preprocessing import LabelEncoder\n",
    "import matplotlib.pyplot as plt\n",
    "plt.rc(\"font\", size=14)\n",
    "from sklearn.model_selection import train_test_split\n",
    "import seaborn as sns\n",
    "sns.set(style=\"white\")\n",
    "sns.set(style=\"whitegrid\", color_codes=True)\n",
    "import statsmodels.api as sm\n",
    "import warnings\n",
    "warnings.filterwarnings(\"ignore\")\n",
    "from statsmodels.stats import diagnostic as diag #statiscal model\n",
    "from sklearn.linear_model import LinearRegression\n",
    "from sklearn.feature_selection import RFE\n",
    "from statsmodels.stats.outliers_influence import variance_inflation_factor\n",
    "from sklearn.metrics import mean_squared_error, r2_score, mean_absolute_error"
   ]
  },
  {
   "cell_type": "code",
   "execution_count": 2,
   "id": "c72332e0",
   "metadata": {},
   "outputs": [],
   "source": [
    "df = pd.read_csv(r\"C:\\Users\\rohit\\Desktop\\PythonCode\\50_Startups.csv\")"
   ]
  },
  {
   "cell_type": "code",
   "execution_count": 3,
   "id": "0a5565fa",
   "metadata": {},
   "outputs": [
    {
     "data": {
      "text/html": [
       "<div>\n",
       "<style scoped>\n",
       "    .dataframe tbody tr th:only-of-type {\n",
       "        vertical-align: middle;\n",
       "    }\n",
       "\n",
       "    .dataframe tbody tr th {\n",
       "        vertical-align: top;\n",
       "    }\n",
       "\n",
       "    .dataframe thead th {\n",
       "        text-align: right;\n",
       "    }\n",
       "</style>\n",
       "<table border=\"1\" class=\"dataframe\">\n",
       "  <thead>\n",
       "    <tr style=\"text-align: right;\">\n",
       "      <th></th>\n",
       "      <th>R&amp;D Spend</th>\n",
       "      <th>Administration</th>\n",
       "      <th>Marketing Spend</th>\n",
       "      <th>State</th>\n",
       "      <th>Profit</th>\n",
       "    </tr>\n",
       "  </thead>\n",
       "  <tbody>\n",
       "    <tr>\n",
       "      <th>0</th>\n",
       "      <td>165349.20</td>\n",
       "      <td>136897.80</td>\n",
       "      <td>471784.10</td>\n",
       "      <td>New York</td>\n",
       "      <td>192261.83</td>\n",
       "    </tr>\n",
       "    <tr>\n",
       "      <th>1</th>\n",
       "      <td>162597.70</td>\n",
       "      <td>151377.59</td>\n",
       "      <td>443898.53</td>\n",
       "      <td>California</td>\n",
       "      <td>191792.06</td>\n",
       "    </tr>\n",
       "    <tr>\n",
       "      <th>2</th>\n",
       "      <td>153441.51</td>\n",
       "      <td>101145.55</td>\n",
       "      <td>407934.54</td>\n",
       "      <td>Florida</td>\n",
       "      <td>191050.39</td>\n",
       "    </tr>\n",
       "    <tr>\n",
       "      <th>3</th>\n",
       "      <td>144372.41</td>\n",
       "      <td>118671.85</td>\n",
       "      <td>383199.62</td>\n",
       "      <td>New York</td>\n",
       "      <td>182901.99</td>\n",
       "    </tr>\n",
       "    <tr>\n",
       "      <th>4</th>\n",
       "      <td>142107.34</td>\n",
       "      <td>91391.77</td>\n",
       "      <td>366168.42</td>\n",
       "      <td>Florida</td>\n",
       "      <td>166187.94</td>\n",
       "    </tr>\n",
       "  </tbody>\n",
       "</table>\n",
       "</div>"
      ],
      "text/plain": [
       "   R&D Spend  Administration  Marketing Spend       State     Profit\n",
       "0  165349.20       136897.80        471784.10    New York  192261.83\n",
       "1  162597.70       151377.59        443898.53  California  191792.06\n",
       "2  153441.51       101145.55        407934.54     Florida  191050.39\n",
       "3  144372.41       118671.85        383199.62    New York  182901.99\n",
       "4  142107.34        91391.77        366168.42     Florida  166187.94"
      ]
     },
     "execution_count": 3,
     "metadata": {},
     "output_type": "execute_result"
    }
   ],
   "source": [
    "df.head()"
   ]
  },
  {
   "cell_type": "code",
   "execution_count": 4,
   "id": "daad95fa",
   "metadata": {},
   "outputs": [
    {
     "name": "stdout",
     "output_type": "stream",
     "text": [
      "<class 'pandas.core.frame.DataFrame'>\n",
      "RangeIndex: 50 entries, 0 to 49\n",
      "Data columns (total 5 columns):\n",
      " #   Column           Non-Null Count  Dtype  \n",
      "---  ------           --------------  -----  \n",
      " 0   R&D Spend        50 non-null     float64\n",
      " 1   Administration   50 non-null     float64\n",
      " 2   Marketing Spend  50 non-null     float64\n",
      " 3   State            50 non-null     object \n",
      " 4   Profit           50 non-null     float64\n",
      "dtypes: float64(4), object(1)\n",
      "memory usage: 2.1+ KB\n"
     ]
    }
   ],
   "source": [
    "df.info()"
   ]
  },
  {
   "cell_type": "code",
   "execution_count": 5,
   "id": "4fd1f713",
   "metadata": {},
   "outputs": [
    {
     "data": {
      "image/png": "[encoded data removed]",
      "text/plain": [
       "<Figure size 432x288 with 1 Axes>"
      ]
     },
     "metadata": {},
     "output_type": "display_data"
    }
   ],
   "source": [
    "df.Profit.hist()\n",
    "plt.show()"
   ]
  },
  {
   "cell_type": "code",
   "execution_count": 6,
   "id": "b43e9607",
   "metadata": {},
   "outputs": [
    {
     "data": {
      "text/plain": [
       "R&D Spend          0\n",
       "Administration     0\n",
       "Marketing Spend    0\n",
       "State              0\n",
       "Profit             0\n",
       "dtype: int64"
      ]
     },
     "execution_count": 6,
     "metadata": {},
     "output_type": "execute_result"
    }
   ],
   "source": [
    "df.isnull().sum(axis = 0)"
   ]
  },
  {
   "cell_type": "markdown",
   "id": "f2f3e23d",
   "metadata": {},
   "source": [
    "## Data Preprocessing\n",
    "* Assign Lables to categorical data"
   ]
  },
  {
   "cell_type": "code",
   "execution_count": 49,
   "id": "65394f2f",
   "metadata": {},
   "outputs": [],
   "source": [
    "df.State=(LabelEncoder().fit_transform(df.State)) # Converting Categorical data in Numerical with the help of LabelEncoder."
   ]
  },
  {
   "cell_type": "code",
   "execution_count": 50,
   "id": "ab4372c8",
   "metadata": {},
   "outputs": [
    {
     "data": {
      "text/html": [
       "<div>\n",
       "<style scoped>\n",
       "    .dataframe tbody tr th:only-of-type {\n",
       "        vertical-align: middle;\n",
       "    }\n",
       "\n",
       "    .dataframe tbody tr th {\n",
       "        vertical-align: top;\n",
       "    }\n",
       "\n",
       "    .dataframe thead th {\n",
       "        text-align: right;\n",
       "    }\n",
       "</style>\n",
       "<table border=\"1\" class=\"dataframe\">\n",
       "  <thead>\n",
       "    <tr style=\"text-align: right;\">\n",
       "      <th></th>\n",
       "      <th>R&amp;D Spend</th>\n",
       "      <th>Administration</th>\n",
       "      <th>Marketing Spend</th>\n",
       "      <th>State</th>\n",
       "      <th>Profit</th>\n",
       "    </tr>\n",
       "  </thead>\n",
       "  <tbody>\n",
       "    <tr>\n",
       "      <th>0</th>\n",
       "      <td>165349.20</td>\n",
       "      <td>136897.80</td>\n",
       "      <td>471784.10</td>\n",
       "      <td>2</td>\n",
       "      <td>192261.83</td>\n",
       "    </tr>\n",
       "    <tr>\n",
       "      <th>1</th>\n",
       "      <td>162597.70</td>\n",
       "      <td>151377.59</td>\n",
       "      <td>443898.53</td>\n",
       "      <td>0</td>\n",
       "      <td>191792.06</td>\n",
       "    </tr>\n",
       "    <tr>\n",
       "      <th>2</th>\n",
       "      <td>153441.51</td>\n",
       "      <td>101145.55</td>\n",
       "      <td>407934.54</td>\n",
       "      <td>1</td>\n",
       "      <td>191050.39</td>\n",
       "    </tr>\n",
       "    <tr>\n",
       "      <th>3</th>\n",
       "      <td>144372.41</td>\n",
       "      <td>118671.85</td>\n",
       "      <td>383199.62</td>\n",
       "      <td>2</td>\n",
       "      <td>182901.99</td>\n",
       "    </tr>\n",
       "    <tr>\n",
       "      <th>4</th>\n",
       "      <td>142107.34</td>\n",
       "      <td>91391.77</td>\n",
       "      <td>366168.42</td>\n",
       "      <td>1</td>\n",
       "      <td>166187.94</td>\n",
       "    </tr>\n",
       "  </tbody>\n",
       "</table>\n",
       "</div>"
      ],
      "text/plain": [
       "   R&D Spend  Administration  Marketing Spend  State     Profit\n",
       "0  165349.20       136897.80        471784.10      2  192261.83\n",
       "1  162597.70       151377.59        443898.53      0  191792.06\n",
       "2  153441.51       101145.55        407934.54      1  191050.39\n",
       "3  144372.41       118671.85        383199.62      2  182901.99\n",
       "4  142107.34        91391.77        366168.42      1  166187.94"
      ]
     },
     "execution_count": 50,
     "metadata": {},
     "output_type": "execute_result"
    }
   ],
   "source": [
    "df.head()"
   ]
  },
  {
   "cell_type": "markdown",
   "id": "775c09ae",
   "metadata": {},
   "source": [
    "## Exploratory Data Analysis (EDA)\n"
   ]
  },
  {
   "cell_type": "code",
   "execution_count": 47,
   "id": "7ace5b3c",
   "metadata": {},
   "outputs": [
    {
     "data": {
      "image/png": "[encoded data removed]",
      "text/plain": [
       "<Figure size 576x288 with 1 Axes>"
      ]
     },
     "metadata": {},
     "output_type": "display_data"
    }
   ],
   "source": [
    "\n",
    "plt.figure(figsize = (8,4))\n",
    "ax= sns.barplot(x='State', y='Profit', data=df,hue=\"State\",palette='CMRmap_r')\n",
    "ax.legend(fontsize = 12, \\\n",
    "               bbox_to_anchor= (1.01, 1), \n",
    "               title=\"Region\", \\\n",
    "               title_fontsize = 15,labels=['California', 'Floria','New york'])\n",
    "ax.set_title('Relationship Between State & Profit')\n",
    "plt.show()"
   ]
  },
  {
   "cell_type": "code",
   "execution_count": 48,
   "id": "4a496f0e",
   "metadata": {},
   "outputs": [
    {
     "data": {
      "image/png": "[encoded data removed]",
      "text/plain": [
       "<Figure size 432x288 with 1 Axes>"
      ]
     },
     "metadata": {},
     "output_type": "display_data"
    }
   ],
   "source": [
    "plt.figure(figsize=(6,4))\n",
    "ax = sns.countplot(x='State', data=df, hue='State',palette='CMRmap_r')\n",
    "sns.set_theme(style=\"whitegrid\")\n",
    "ax.legend(fontsize = 12, \\\n",
    "               bbox_to_anchor= (1.01, 1), \n",
    "               title=\"Region\", \\\n",
    "               title_fontsize = 15,labels=['California', 'Floria','New york'])\n",
    "ax.set_title('Countplot for State')\n",
    "plt.show()"
   ]
  },
  {
   "cell_type": "markdown",
   "id": "254be6f1",
   "metadata": {},
   "source": [
    "# Identify & Treatment of Outliers"
   ]
  },
  {
   "cell_type": "code",
   "execution_count": 9,
   "id": "b989b81a",
   "metadata": {},
   "outputs": [
    {
     "data": {
      "image/png": "[encoded data removed]",
      "text/plain": [
       "<Figure size 432x288 with 1 Axes>"
      ]
     },
     "metadata": {},
     "output_type": "display_data"
    }
   ],
   "source": [
    "sns.boxplot(data=df.loc[:, ['R&D Spend', 'Administration','Marketing Spend']])\n",
    "plt.show()"
   ]
  },
  {
   "cell_type": "code",
   "execution_count": 10,
   "id": "4f58834d",
   "metadata": {},
   "outputs": [
    {
     "data": {
      "image/png": "[encoded data removed]",
      "text/plain": [
       "<Figure size 432x288 with 1 Axes>"
      ]
     },
     "metadata": {},
     "output_type": "display_data"
    }
   ],
   "source": [
    "sns.boxplot(data=df.loc[:, ['Profit']])\n",
    "plt.show()"
   ]
  },
  {
   "cell_type": "markdown",
   "id": "4f01bc15",
   "metadata": {},
   "source": [
    "# Treatment of Outliers\n",
    "* Profit"
   ]
  },
  {
   "cell_type": "code",
   "execution_count": 11,
   "id": "a5b50843",
   "metadata": {},
   "outputs": [
    {
     "data": {
      "text/plain": [
       "(15698.290000000023, 214206.58999999997)"
      ]
     },
     "execution_count": 11,
     "metadata": {},
     "output_type": "execute_result"
    }
   ],
   "source": [
    "q1 = df['Profit'].quantile(0.25)\n",
    "q3 = df['Profit'].quantile(0.75)\n",
    "iqr = q3-q1 #Interquartile range\n",
    "Lower_limit  = q1-1.5*iqr #acceptable range\n",
    "upper_limit = q3+1.5*iqr #acceptable range\n",
    "Lower_limit,upper_limit"
   ]
  },
  {
   "cell_type": "code",
   "execution_count": 12,
   "id": "c074977f",
   "metadata": {},
   "outputs": [],
   "source": [
    "df['Profit']=np.where(df['Profit'] < Lower_limit,Lower_limit,df['Profit']) \n",
    "# lower limit"
   ]
  },
  {
   "cell_type": "code",
   "execution_count": 13,
   "id": "f5b62bab",
   "metadata": {},
   "outputs": [
    {
     "data": {
      "image/png": "[encoded data removed]",
      "text/plain": [
       "<Figure size 432x288 with 1 Axes>"
      ]
     },
     "metadata": {},
     "output_type": "display_data"
    }
   ],
   "source": [
    "sns.boxplot(y='Profit',data=df)\n",
    "plt.show()"
   ]
  },
  {
   "cell_type": "markdown",
   "id": "a80d5d50",
   "metadata": {},
   "source": [
    "# Splitting the Data\n",
    "\n",
    "##  into Training Data & Testing\n"
   ]
  },
  {
   "cell_type": "code",
   "execution_count": 14,
   "id": "818248e1",
   "metadata": {},
   "outputs": [],
   "source": [
    "X = df.drop('Profit', axis=1)"
   ]
  },
  {
   "cell_type": "code",
   "execution_count": 15,
   "id": "d8a7b64b",
   "metadata": {},
   "outputs": [],
   "source": [
    "Y = df['Profit']"
   ]
  },
  {
   "cell_type": "code",
   "execution_count": 16,
   "id": "f7ef5aee",
   "metadata": {},
   "outputs": [],
   "source": [
    "X_train,X_test,Y_train,Y_test = train_test_split(X,Y,test_size=0.20, random_state=100)"
   ]
  },
  {
   "cell_type": "code",
   "execution_count": 17,
   "id": "d8cc0812",
   "metadata": {},
   "outputs": [
    {
     "name": "stdout",
     "output_type": "stream",
     "text": [
      "(50, 4) (40, 4) (10, 4)\n"
     ]
    }
   ],
   "source": [
    "print(X.shape,X_train.shape, X_test.shape)"
   ]
  },
  {
   "cell_type": "markdown",
   "id": "0753bc08",
   "metadata": {},
   "source": [
    "## Model Building\n"
   ]
  },
  {
   "cell_type": "code",
   "execution_count": 18,
   "id": "4e587600",
   "metadata": {},
   "outputs": [],
   "source": [
    "train = pd.concat([X_train,Y_train], axis=1)"
   ]
  },
  {
   "cell_type": "code",
   "execution_count": 19,
   "id": "b5dfdb07",
   "metadata": {},
   "outputs": [
    {
     "data": {
      "text/html": [
       "<div>\n",
       "<style scoped>\n",
       "    .dataframe tbody tr th:only-of-type {\n",
       "        vertical-align: middle;\n",
       "    }\n",
       "\n",
       "    .dataframe tbody tr th {\n",
       "        vertical-align: top;\n",
       "    }\n",
       "\n",
       "    .dataframe thead th {\n",
       "        text-align: right;\n",
       "    }\n",
       "</style>\n",
       "<table border=\"1\" class=\"dataframe\">\n",
       "  <thead>\n",
       "    <tr style=\"text-align: right;\">\n",
       "      <th></th>\n",
       "      <th>R&amp;D Spend</th>\n",
       "      <th>Administration</th>\n",
       "      <th>Marketing Spend</th>\n",
       "      <th>State</th>\n",
       "      <th>Profit</th>\n",
       "    </tr>\n",
       "  </thead>\n",
       "  <tbody>\n",
       "    <tr>\n",
       "      <th>R&amp;D Spend</th>\n",
       "      <td>1.000000</td>\n",
       "      <td>0.241955</td>\n",
       "      <td>0.724248</td>\n",
       "      <td>0.104685</td>\n",
       "      <td>0.973278</td>\n",
       "    </tr>\n",
       "    <tr>\n",
       "      <th>Administration</th>\n",
       "      <td>0.241955</td>\n",
       "      <td>1.000000</td>\n",
       "      <td>-0.032154</td>\n",
       "      <td>0.011847</td>\n",
       "      <td>0.200885</td>\n",
       "    </tr>\n",
       "    <tr>\n",
       "      <th>Marketing Spend</th>\n",
       "      <td>0.724248</td>\n",
       "      <td>-0.032154</td>\n",
       "      <td>1.000000</td>\n",
       "      <td>0.077670</td>\n",
       "      <td>0.747993</td>\n",
       "    </tr>\n",
       "    <tr>\n",
       "      <th>State</th>\n",
       "      <td>0.104685</td>\n",
       "      <td>0.011847</td>\n",
       "      <td>0.077670</td>\n",
       "      <td>1.000000</td>\n",
       "      <td>0.101304</td>\n",
       "    </tr>\n",
       "    <tr>\n",
       "      <th>Profit</th>\n",
       "      <td>0.973278</td>\n",
       "      <td>0.200885</td>\n",
       "      <td>0.747993</td>\n",
       "      <td>0.101304</td>\n",
       "      <td>1.000000</td>\n",
       "    </tr>\n",
       "  </tbody>\n",
       "</table>\n",
       "</div>"
      ],
      "text/plain": [
       "                 R&D Spend  Administration  Marketing Spend     State  \\\n",
       "R&D Spend         1.000000        0.241955         0.724248  0.104685   \n",
       "Administration    0.241955        1.000000        -0.032154  0.011847   \n",
       "Marketing Spend   0.724248       -0.032154         1.000000  0.077670   \n",
       "State             0.104685        0.011847         0.077670  1.000000   \n",
       "Profit            0.973278        0.200885         0.747993  0.101304   \n",
       "\n",
       "                   Profit  \n",
       "R&D Spend        0.973278  \n",
       "Administration   0.200885  \n",
       "Marketing Spend  0.747993  \n",
       "State            0.101304  \n",
       "Profit           1.000000  "
      ]
     },
     "metadata": {},
     "output_type": "display_data"
    },
    {
     "data": {
      "image/png": "[encoded data removed]",
      "text/plain": [
       "<Figure size 576x432 with 2 Axes>"
      ]
     },
     "metadata": {},
     "output_type": "display_data"
    }
   ],
   "source": [
    "# calculate the correlation matrix\n",
    "corr = df.corr()\n",
    "# display the correlation matrix\n",
    "display(corr)\n",
    "plt.figure(figsize = (8,6))\n",
    "# plot the correlation heatmap\n",
    "sns.heatmap(corr,annot = True)\n",
    "plt.show()"
   ]
  },
  {
   "cell_type": "markdown",
   "id": "6530ce9e",
   "metadata": {},
   "source": [
    "# Backward Elimination Method-\n",
    "## Hypothesis\n",
    "\n",
    "\n",
    "H0 :- There is no log linear relationship between Charges(Target) and BMI,Sex,Age,Children,Smoker & Region.\n",
    "   Vs\n",
    "\n",
    "H1 :- There is log linear relationship between Charges(Target) and BMI,Sex,Age,Children,Smoker & Region.\n",
    "\n",
    "Alpha = 0.05"
   ]
  },
  {
   "cell_type": "code",
   "execution_count": 20,
   "id": "e892343b",
   "metadata": {
    "scrolled": true
   },
   "outputs": [
    {
     "data": {
      "text/html": [
       "<table class=\"simpletable\">\n",
       "<caption>OLS Regression Results</caption>\n",
       "<tr>\n",
       "  <th>Dep. Variable:</th>         <td>Profit</td>      <th>  R-squared:         </th> <td>   0.962</td>\n",
       "</tr>\n",
       "<tr>\n",
       "  <th>Model:</th>                   <td>OLS</td>       <th>  Adj. R-squared:    </th> <td>   0.957</td>\n",
       "</tr>\n",
       "<tr>\n",
       "  <th>Method:</th>             <td>Least Squares</td>  <th>  F-statistic:       </th> <td>   220.0</td>\n",
       "</tr>\n",
       "<tr>\n",
       "  <th>Date:</th>             <td>Thu, 07 Oct 2021</td> <th>  Prob (F-statistic):</th> <td>2.81e-24</td>\n",
       "</tr>\n",
       "<tr>\n",
       "  <th>Time:</th>                 <td>18:59:07</td>     <th>  Log-Likelihood:    </th> <td> -414.35</td>\n",
       "</tr>\n",
       "<tr>\n",
       "  <th>No. Observations:</th>      <td>    40</td>      <th>  AIC:               </th> <td>   838.7</td>\n",
       "</tr>\n",
       "<tr>\n",
       "  <th>Df Residuals:</th>          <td>    35</td>      <th>  BIC:               </th> <td>   847.1</td>\n",
       "</tr>\n",
       "<tr>\n",
       "  <th>Df Model:</th>              <td>     4</td>      <th>                     </th>     <td> </td>   \n",
       "</tr>\n",
       "<tr>\n",
       "  <th>Covariance Type:</th>      <td>nonrobust</td>    <th>                     </th>     <td> </td>   \n",
       "</tr>\n",
       "</table>\n",
       "<table class=\"simpletable\">\n",
       "<tr>\n",
       "            <td></td>              <th>coef</th>     <th>std err</th>      <th>t</th>      <th>P>|t|</th>  <th>[0.025</th>    <th>0.975]</th>  \n",
       "</tr>\n",
       "<tr>\n",
       "  <th>Intercept</th>            <td> 5.561e+04</td> <td> 6979.870</td> <td>    7.968</td> <td> 0.000</td> <td> 4.14e+04</td> <td> 6.98e+04</td>\n",
       "</tr>\n",
       "<tr>\n",
       "  <th>Q('R&D Spend')</th>       <td>    0.8168</td> <td>    0.046</td> <td>   17.810</td> <td> 0.000</td> <td>    0.724</td> <td>    0.910</td>\n",
       "</tr>\n",
       "<tr>\n",
       "  <th>Administration</th>       <td>   -0.0502</td> <td>    0.053</td> <td>   -0.954</td> <td> 0.346</td> <td>   -0.157</td> <td>    0.057</td>\n",
       "</tr>\n",
       "<tr>\n",
       "  <th>Q('Marketing Spend')</th> <td>    0.0200</td> <td>    0.016</td> <td>    1.250</td> <td> 0.220</td> <td>   -0.012</td> <td>    0.052</td>\n",
       "</tr>\n",
       "<tr>\n",
       "  <th>State</th>                <td>-1439.4323</td> <td> 1586.366</td> <td>   -0.907</td> <td> 0.370</td> <td>-4659.927</td> <td> 1781.062</td>\n",
       "</tr>\n",
       "</table>\n",
       "<table class=\"simpletable\">\n",
       "<tr>\n",
       "  <th>Omnibus:</th>       <td> 0.018</td> <th>  Durbin-Watson:     </th> <td>   2.219</td>\n",
       "</tr>\n",
       "<tr>\n",
       "  <th>Prob(Omnibus):</th> <td> 0.991</td> <th>  Jarque-Bera (JB):  </th> <td>   0.096</td>\n",
       "</tr>\n",
       "<tr>\n",
       "  <th>Skew:</th>          <td>-0.036</td> <th>  Prob(JB):          </th> <td>   0.953</td>\n",
       "</tr>\n",
       "<tr>\n",
       "  <th>Kurtosis:</th>      <td> 2.771</td> <th>  Cond. No.          </th> <td>1.57e+06</td>\n",
       "</tr>\n",
       "</table><br/><br/>Notes:<br/>[1] Standard Errors assume that the covariance matrix of the errors is correctly specified.<br/>[2] The condition number is large, 1.57e+06. This might indicate that there are<br/>strong multicollinearity or other numerical problems."
      ],
      "text/plain": [
       "<class 'statsmodels.iolib.summary.Summary'>\n",
       "\"\"\"\n",
       "                            OLS Regression Results                            \n",
       "==============================================================================\n",
       "Dep. Variable:                 Profit   R-squared:                       0.962\n",
       "Model:                            OLS   Adj. R-squared:                  0.957\n",
       "Method:                 Least Squares   F-statistic:                     220.0\n",
       "Date:                Thu, 07 Oct 2021   Prob (F-statistic):           2.81e-24\n",
       "Time:                        18:59:07   Log-Likelihood:                -414.35\n",
       "No. Observations:                  40   AIC:                             838.7\n",
       "Df Residuals:                      35   BIC:                             847.1\n",
       "Df Model:                           4                                         \n",
       "Covariance Type:            nonrobust                                         \n",
       "========================================================================================\n",
       "                           coef    std err          t      P>|t|      [0.025      0.975]\n",
       "----------------------------------------------------------------------------------------\n",
       "Intercept             5.561e+04   6979.870      7.968      0.000    4.14e+04    6.98e+04\n",
       "Q('R&D Spend')           0.8168      0.046     17.810      0.000       0.724       0.910\n",
       "Administration          -0.0502      0.053     -0.954      0.346      -0.157       0.057\n",
       "Q('Marketing Spend')     0.0200      0.016      1.250      0.220      -0.012       0.052\n",
       "State                -1439.4323   1586.366     -0.907      0.370   -4659.927    1781.062\n",
       "==============================================================================\n",
       "Omnibus:                        0.018   Durbin-Watson:                   2.219\n",
       "Prob(Omnibus):                  0.991   Jarque-Bera (JB):                0.096\n",
       "Skew:                          -0.036   Prob(JB):                        0.953\n",
       "Kurtosis:                       2.771   Cond. No.                     1.57e+06\n",
       "==============================================================================\n",
       "\n",
       "Notes:\n",
       "[1] Standard Errors assume that the covariance matrix of the errors is correctly specified.\n",
       "[2] The condition number is large, 1.57e+06. This might indicate that there are\n",
       "strong multicollinearity or other numerical problems.\n",
       "\"\"\""
      ]
     },
     "execution_count": 20,
     "metadata": {},
     "output_type": "execute_result"
    }
   ],
   "source": [
    "import statsmodels.formula.api as smf\n",
    "import statsmodels.api as sm\n",
    "result=smf.ols(\"Profit~Q('R&D Spend')+Administration+Q('Marketing Spend')+State\",data=train).fit()\n",
    "result.summary()"
   ]
  },
  {
   "cell_type": "markdown",
   "id": "0a46e81e",
   "metadata": {},
   "source": [
    "# Observation \n",
    "From the summary, we observe that the highest P-value is for (State)= 0.370, which is way over our significance level of 0.05.\n",
    "* Hence, we remove 'State' feature. \n",
    "\n",
    "* We will remove and re-run the mode"
   ]
  },
  {
   "cell_type": "code",
   "execution_count": 21,
   "id": "4ba9a427",
   "metadata": {
    "scrolled": true
   },
   "outputs": [
    {
     "data": {
      "text/html": [
       "<table class=\"simpletable\">\n",
       "<caption>OLS Regression Results</caption>\n",
       "<tr>\n",
       "  <th>Dep. Variable:</th>         <td>Profit</td>      <th>  R-squared:         </th> <td>   0.961</td>\n",
       "</tr>\n",
       "<tr>\n",
       "  <th>Model:</th>                   <td>OLS</td>       <th>  Adj. R-squared:    </th> <td>   0.958</td>\n",
       "</tr>\n",
       "<tr>\n",
       "  <th>Method:</th>             <td>Least Squares</td>  <th>  F-statistic:       </th> <td>   294.5</td>\n",
       "</tr>\n",
       "<tr>\n",
       "  <th>Date:</th>             <td>Thu, 07 Oct 2021</td> <th>  Prob (F-statistic):</th> <td>2.24e-25</td>\n",
       "</tr>\n",
       "<tr>\n",
       "  <th>Time:</th>                 <td>18:59:07</td>     <th>  Log-Likelihood:    </th> <td> -414.81</td>\n",
       "</tr>\n",
       "<tr>\n",
       "  <th>No. Observations:</th>      <td>    40</td>      <th>  AIC:               </th> <td>   837.6</td>\n",
       "</tr>\n",
       "<tr>\n",
       "  <th>Df Residuals:</th>          <td>    36</td>      <th>  BIC:               </th> <td>   844.4</td>\n",
       "</tr>\n",
       "<tr>\n",
       "  <th>Df Model:</th>              <td>     3</td>      <th>                     </th>     <td> </td>   \n",
       "</tr>\n",
       "<tr>\n",
       "  <th>Covariance Type:</th>      <td>nonrobust</td>    <th>                     </th>     <td> </td>   \n",
       "</tr>\n",
       "</table>\n",
       "<table class=\"simpletable\">\n",
       "<tr>\n",
       "            <td></td>              <th>coef</th>     <th>std err</th>      <th>t</th>      <th>P>|t|</th>  <th>[0.025</th>    <th>0.975]</th>  \n",
       "</tr>\n",
       "<tr>\n",
       "  <th>Intercept</th>            <td> 5.368e+04</td> <td> 6630.124</td> <td>    8.096</td> <td> 0.000</td> <td> 4.02e+04</td> <td> 6.71e+04</td>\n",
       "</tr>\n",
       "<tr>\n",
       "  <th>Q('R&D Spend')</th>       <td>    0.8133</td> <td>    0.046</td> <td>   17.840</td> <td> 0.000</td> <td>    0.721</td> <td>    0.906</td>\n",
       "</tr>\n",
       "<tr>\n",
       "  <th>Administration</th>       <td>   -0.0459</td> <td>    0.052</td> <td>   -0.878</td> <td> 0.386</td> <td>   -0.152</td> <td>    0.060</td>\n",
       "</tr>\n",
       "<tr>\n",
       "  <th>Q('Marketing Spend')</th> <td>    0.0205</td> <td>    0.016</td> <td>    1.290</td> <td> 0.205</td> <td>   -0.012</td> <td>    0.053</td>\n",
       "</tr>\n",
       "</table>\n",
       "<table class=\"simpletable\">\n",
       "<tr>\n",
       "  <th>Omnibus:</th>       <td> 0.282</td> <th>  Durbin-Watson:     </th> <td>   2.229</td>\n",
       "</tr>\n",
       "<tr>\n",
       "  <th>Prob(Omnibus):</th> <td> 0.869</td> <th>  Jarque-Bera (JB):  </th> <td>   0.363</td>\n",
       "</tr>\n",
       "<tr>\n",
       "  <th>Skew:</th>          <td>-0.181</td> <th>  Prob(JB):          </th> <td>   0.834</td>\n",
       "</tr>\n",
       "<tr>\n",
       "  <th>Kurtosis:</th>      <td> 2.706</td> <th>  Cond. No.          </th> <td>1.49e+06</td>\n",
       "</tr>\n",
       "</table><br/><br/>Notes:<br/>[1] Standard Errors assume that the covariance matrix of the errors is correctly specified.<br/>[2] The condition number is large, 1.49e+06. This might indicate that there are<br/>strong multicollinearity or other numerical problems."
      ],
      "text/plain": [
       "<class 'statsmodels.iolib.summary.Summary'>\n",
       "\"\"\"\n",
       "                            OLS Regression Results                            \n",
       "==============================================================================\n",
       "Dep. Variable:                 Profit   R-squared:                       0.961\n",
       "Model:                            OLS   Adj. R-squared:                  0.958\n",
       "Method:                 Least Squares   F-statistic:                     294.5\n",
       "Date:                Thu, 07 Oct 2021   Prob (F-statistic):           2.24e-25\n",
       "Time:                        18:59:07   Log-Likelihood:                -414.81\n",
       "No. Observations:                  40   AIC:                             837.6\n",
       "Df Residuals:                      36   BIC:                             844.4\n",
       "Df Model:                           3                                         \n",
       "Covariance Type:            nonrobust                                         \n",
       "========================================================================================\n",
       "                           coef    std err          t      P>|t|      [0.025      0.975]\n",
       "----------------------------------------------------------------------------------------\n",
       "Intercept             5.368e+04   6630.124      8.096      0.000    4.02e+04    6.71e+04\n",
       "Q('R&D Spend')           0.8133      0.046     17.840      0.000       0.721       0.906\n",
       "Administration          -0.0459      0.052     -0.878      0.386      -0.152       0.060\n",
       "Q('Marketing Spend')     0.0205      0.016      1.290      0.205      -0.012       0.053\n",
       "==============================================================================\n",
       "Omnibus:                        0.282   Durbin-Watson:                   2.229\n",
       "Prob(Omnibus):                  0.869   Jarque-Bera (JB):                0.363\n",
       "Skew:                          -0.181   Prob(JB):                        0.834\n",
       "Kurtosis:                       2.706   Cond. No.                     1.49e+06\n",
       "==============================================================================\n",
       "\n",
       "Notes:\n",
       "[1] Standard Errors assume that the covariance matrix of the errors is correctly specified.\n",
       "[2] The condition number is large, 1.49e+06. This might indicate that there are\n",
       "strong multicollinearity or other numerical problems.\n",
       "\"\"\""
      ]
     },
     "execution_count": 21,
     "metadata": {},
     "output_type": "execute_result"
    }
   ],
   "source": [
    "import statsmodels.formula.api as smf\n",
    "import statsmodels.api as sm\n",
    "result=smf.ols(\"Profit~Q('R&D Spend')+Administration+Q('Marketing Spend')\",data=train).fit()\n",
    "result.summary()"
   ]
  },
  {
   "cell_type": "markdown",
   "id": "73631b2f",
   "metadata": {},
   "source": [
    "# Observation \n",
    "From the summary, we observe that the highest P-value is for (Administration)= 0.386, which is way over our significance level of 0.05.\n",
    "* Hence, we remove 'Administration' feature. \n",
    "\n",
    "* We will remove and re-run the mode"
   ]
  },
  {
   "cell_type": "code",
   "execution_count": 22,
   "id": "0dda1655",
   "metadata": {},
   "outputs": [
    {
     "data": {
      "text/html": [
       "<table class=\"simpletable\">\n",
       "<caption>OLS Regression Results</caption>\n",
       "<tr>\n",
       "  <th>Dep. Variable:</th>         <td>Profit</td>      <th>  R-squared:         </th> <td>   0.960</td>\n",
       "</tr>\n",
       "<tr>\n",
       "  <th>Model:</th>                   <td>OLS</td>       <th>  Adj. R-squared:    </th> <td>   0.958</td>\n",
       "</tr>\n",
       "<tr>\n",
       "  <th>Method:</th>             <td>Least Squares</td>  <th>  F-statistic:       </th> <td>   444.1</td>\n",
       "</tr>\n",
       "<tr>\n",
       "  <th>Date:</th>             <td>Thu, 07 Oct 2021</td> <th>  Prob (F-statistic):</th> <td>1.37e-26</td>\n",
       "</tr>\n",
       "<tr>\n",
       "  <th>Time:</th>                 <td>18:59:07</td>     <th>  Log-Likelihood:    </th> <td> -415.24</td>\n",
       "</tr>\n",
       "<tr>\n",
       "  <th>No. Observations:</th>      <td>    40</td>      <th>  AIC:               </th> <td>   836.5</td>\n",
       "</tr>\n",
       "<tr>\n",
       "  <th>Df Residuals:</th>          <td>    37</td>      <th>  BIC:               </th> <td>   841.5</td>\n",
       "</tr>\n",
       "<tr>\n",
       "  <th>Df Model:</th>              <td>     2</td>      <th>                     </th>     <td> </td>   \n",
       "</tr>\n",
       "<tr>\n",
       "  <th>Covariance Type:</th>      <td>nonrobust</td>    <th>                     </th>     <td> </td>   \n",
       "</tr>\n",
       "</table>\n",
       "<table class=\"simpletable\">\n",
       "<tr>\n",
       "            <td></td>              <th>coef</th>     <th>std err</th>      <th>t</th>      <th>P>|t|</th>  <th>[0.025</th>    <th>0.975]</th>  \n",
       "</tr>\n",
       "<tr>\n",
       "  <th>Intercept</th>            <td> 4.838e+04</td> <td> 2722.534</td> <td>   17.769</td> <td> 0.000</td> <td> 4.29e+04</td> <td> 5.39e+04</td>\n",
       "</tr>\n",
       "<tr>\n",
       "  <th>Q('R&D Spend')</th>       <td>    0.7995</td> <td>    0.043</td> <td>   18.731</td> <td> 0.000</td> <td>    0.713</td> <td>    0.886</td>\n",
       "</tr>\n",
       "<tr>\n",
       "  <th>Q('Marketing Spend')</th> <td>    0.0240</td> <td>    0.015</td> <td>    1.555</td> <td> 0.129</td> <td>   -0.007</td> <td>    0.055</td>\n",
       "</tr>\n",
       "</table>\n",
       "<table class=\"simpletable\">\n",
       "<tr>\n",
       "  <th>Omnibus:</th>       <td> 0.121</td> <th>  Durbin-Watson:     </th> <td>   2.158</td>\n",
       "</tr>\n",
       "<tr>\n",
       "  <th>Prob(Omnibus):</th> <td> 0.941</td> <th>  Jarque-Bera (JB):  </th> <td>   0.322</td>\n",
       "</tr>\n",
       "<tr>\n",
       "  <th>Skew:</th>          <td>-0.071</td> <th>  Prob(JB):          </th> <td>   0.851</td>\n",
       "</tr>\n",
       "<tr>\n",
       "  <th>Kurtosis:</th>      <td> 2.584</td> <th>  Cond. No.          </th> <td>5.66e+05</td>\n",
       "</tr>\n",
       "</table><br/><br/>Notes:<br/>[1] Standard Errors assume that the covariance matrix of the errors is correctly specified.<br/>[2] The condition number is large, 5.66e+05. This might indicate that there are<br/>strong multicollinearity or other numerical problems."
      ],
      "text/plain": [
       "<class 'statsmodels.iolib.summary.Summary'>\n",
       "\"\"\"\n",
       "                            OLS Regression Results                            \n",
       "==============================================================================\n",
       "Dep. Variable:                 Profit   R-squared:                       0.960\n",
       "Model:                            OLS   Adj. R-squared:                  0.958\n",
       "Method:                 Least Squares   F-statistic:                     444.1\n",
       "Date:                Thu, 07 Oct 2021   Prob (F-statistic):           1.37e-26\n",
       "Time:                        18:59:07   Log-Likelihood:                -415.24\n",
       "No. Observations:                  40   AIC:                             836.5\n",
       "Df Residuals:                      37   BIC:                             841.5\n",
       "Df Model:                           2                                         \n",
       "Covariance Type:            nonrobust                                         \n",
       "========================================================================================\n",
       "                           coef    std err          t      P>|t|      [0.025      0.975]\n",
       "----------------------------------------------------------------------------------------\n",
       "Intercept             4.838e+04   2722.534     17.769      0.000    4.29e+04    5.39e+04\n",
       "Q('R&D Spend')           0.7995      0.043     18.731      0.000       0.713       0.886\n",
       "Q('Marketing Spend')     0.0240      0.015      1.555      0.129      -0.007       0.055\n",
       "==============================================================================\n",
       "Omnibus:                        0.121   Durbin-Watson:                   2.158\n",
       "Prob(Omnibus):                  0.941   Jarque-Bera (JB):                0.322\n",
       "Skew:                          -0.071   Prob(JB):                        0.851\n",
       "Kurtosis:                       2.584   Cond. No.                     5.66e+05\n",
       "==============================================================================\n",
       "\n",
       "Notes:\n",
       "[1] Standard Errors assume that the covariance matrix of the errors is correctly specified.\n",
       "[2] The condition number is large, 5.66e+05. This might indicate that there are\n",
       "strong multicollinearity or other numerical problems.\n",
       "\"\"\""
      ]
     },
     "execution_count": 22,
     "metadata": {},
     "output_type": "execute_result"
    }
   ],
   "source": [
    "import statsmodels.formula.api as smf\n",
    "import statsmodels.api as sm\n",
    "result=smf.ols(\"Profit~Q('R&D Spend')+Q('Marketing Spend')\",data=train).fit()\n",
    "result.summary()"
   ]
  },
  {
   "cell_type": "markdown",
   "id": "5d3f96dd",
   "metadata": {},
   "source": [
    "# Observation \n",
    "From the summary, we observe that the highest P-value is for (Marketing Spend)= 0.129, which is way over our significance level of 0.05.\n",
    "* Hence, we remove 'Marketing Spend' feature. \n",
    "\n",
    "* We will remove and re-run the mode"
   ]
  },
  {
   "cell_type": "code",
   "execution_count": 23,
   "id": "5b87d945",
   "metadata": {},
   "outputs": [
    {
     "data": {
      "text/html": [
       "<table class=\"simpletable\">\n",
       "<caption>OLS Regression Results</caption>\n",
       "<tr>\n",
       "  <th>Dep. Variable:</th>         <td>Profit</td>      <th>  R-squared:         </th> <td>   0.957</td>\n",
       "</tr>\n",
       "<tr>\n",
       "  <th>Model:</th>                   <td>OLS</td>       <th>  Adj. R-squared:    </th> <td>   0.956</td>\n",
       "</tr>\n",
       "<tr>\n",
       "  <th>Method:</th>             <td>Least Squares</td>  <th>  F-statistic:       </th> <td>   853.9</td>\n",
       "</tr>\n",
       "<tr>\n",
       "  <th>Date:</th>             <td>Thu, 07 Oct 2021</td> <th>  Prob (F-statistic):</th> <td>1.20e-27</td>\n",
       "</tr>\n",
       "<tr>\n",
       "  <th>Time:</th>                 <td>18:59:07</td>     <th>  Log-Likelihood:    </th> <td> -416.50</td>\n",
       "</tr>\n",
       "<tr>\n",
       "  <th>No. Observations:</th>      <td>    40</td>      <th>  AIC:               </th> <td>   837.0</td>\n",
       "</tr>\n",
       "<tr>\n",
       "  <th>Df Residuals:</th>          <td>    38</td>      <th>  BIC:               </th> <td>   840.4</td>\n",
       "</tr>\n",
       "<tr>\n",
       "  <th>Df Model:</th>              <td>     1</td>      <th>                     </th>     <td> </td>   \n",
       "</tr>\n",
       "<tr>\n",
       "  <th>Covariance Type:</th>      <td>nonrobust</td>    <th>                     </th>     <td> </td>   \n",
       "</tr>\n",
       "</table>\n",
       "<table class=\"simpletable\">\n",
       "<tr>\n",
       "         <td></td>           <th>coef</th>     <th>std err</th>      <th>t</th>      <th>P>|t|</th>  <th>[0.025</th>    <th>0.975]</th>  \n",
       "</tr>\n",
       "<tr>\n",
       "  <th>Intercept</th>      <td> 4.981e+04</td> <td> 2609.102</td> <td>   19.091</td> <td> 0.000</td> <td> 4.45e+04</td> <td> 5.51e+04</td>\n",
       "</tr>\n",
       "<tr>\n",
       "  <th>Q('R&D Spend')</th> <td>    0.8489</td> <td>    0.029</td> <td>   29.222</td> <td> 0.000</td> <td>    0.790</td> <td>    0.908</td>\n",
       "</tr>\n",
       "</table>\n",
       "<table class=\"simpletable\">\n",
       "<tr>\n",
       "  <th>Omnibus:</th>       <td> 0.198</td> <th>  Durbin-Watson:     </th> <td>   2.185</td>\n",
       "</tr>\n",
       "<tr>\n",
       "  <th>Prob(Omnibus):</th> <td> 0.906</td> <th>  Jarque-Bera (JB):  </th> <td>   0.333</td>\n",
       "</tr>\n",
       "<tr>\n",
       "  <th>Skew:</th>          <td>-0.146</td> <th>  Prob(JB):          </th> <td>   0.847</td>\n",
       "</tr>\n",
       "<tr>\n",
       "  <th>Kurtosis:</th>      <td> 2.662</td> <th>  Cond. No.          </th> <td>1.79e+05</td>\n",
       "</tr>\n",
       "</table><br/><br/>Notes:<br/>[1] Standard Errors assume that the covariance matrix of the errors is correctly specified.<br/>[2] The condition number is large, 1.79e+05. This might indicate that there are<br/>strong multicollinearity or other numerical problems."
      ],
      "text/plain": [
       "<class 'statsmodels.iolib.summary.Summary'>\n",
       "\"\"\"\n",
       "                            OLS Regression Results                            \n",
       "==============================================================================\n",
       "Dep. Variable:                 Profit   R-squared:                       0.957\n",
       "Model:                            OLS   Adj. R-squared:                  0.956\n",
       "Method:                 Least Squares   F-statistic:                     853.9\n",
       "Date:                Thu, 07 Oct 2021   Prob (F-statistic):           1.20e-27\n",
       "Time:                        18:59:07   Log-Likelihood:                -416.50\n",
       "No. Observations:                  40   AIC:                             837.0\n",
       "Df Residuals:                      38   BIC:                             840.4\n",
       "Df Model:                           1                                         \n",
       "Covariance Type:            nonrobust                                         \n",
       "==================================================================================\n",
       "                     coef    std err          t      P>|t|      [0.025      0.975]\n",
       "----------------------------------------------------------------------------------\n",
       "Intercept       4.981e+04   2609.102     19.091      0.000    4.45e+04    5.51e+04\n",
       "Q('R&D Spend')     0.8489      0.029     29.222      0.000       0.790       0.908\n",
       "==============================================================================\n",
       "Omnibus:                        0.198   Durbin-Watson:                   2.185\n",
       "Prob(Omnibus):                  0.906   Jarque-Bera (JB):                0.333\n",
       "Skew:                          -0.146   Prob(JB):                        0.847\n",
       "Kurtosis:                       2.662   Cond. No.                     1.79e+05\n",
       "==============================================================================\n",
       "\n",
       "Notes:\n",
       "[1] Standard Errors assume that the covariance matrix of the errors is correctly specified.\n",
       "[2] The condition number is large, 1.79e+05. This might indicate that there are\n",
       "strong multicollinearity or other numerical problems.\n",
       "\"\"\""
      ]
     },
     "execution_count": 23,
     "metadata": {},
     "output_type": "execute_result"
    }
   ],
   "source": [
    "import statsmodels.formula.api as smf\n",
    "import statsmodels.api as sm\n",
    "fmodel=result=smf.ols(\"Profit~Q('R&D Spend')\",data=train).fit()\n",
    "result.summary()"
   ]
  },
  {
   "cell_type": "markdown",
   "id": "e030b251",
   "metadata": {},
   "source": [
    "# Observation \n",
    "* There is Significane relationship between Profit and R&D Spend .\n",
    "\n",
    "#### 95% is accuracy of model , so we say model is good fit.\n",
    "\n",
    "4.981e+04(Intercept Coefficient)\n",
    "49810\n",
    "\n",
    "Y= 49810+0.8489(R&D Spend Coefficent)*165349.20(X1)\n",
    "\n",
    "Y= "
   ]
  },
  {
   "cell_type": "markdown",
   "id": "04d7627d",
   "metadata": {},
   "source": [
    "# Assumption of Model\n",
    "\n",
    "* Colinearity\n",
    "* Normality\n",
    "* Homoscedasicity\n",
    "* Model Error has to be independently identificaly Distibuted"
   ]
  },
  {
   "cell_type": "markdown",
   "id": "85b81ff9",
   "metadata": {},
   "source": [
    "## Multicolinearity (with the help of VIF)"
   ]
  },
  {
   "cell_type": "code",
   "execution_count": 26,
   "id": "4b79d1ac",
   "metadata": {},
   "outputs": [
    {
     "data": {
      "text/plain": [
       "R&D Spend          9.728718\n",
       "Administration     5.345651\n",
       "Marketing Spend    8.609687\n",
       "State              2.503815\n",
       "dtype: float64"
      ]
     },
     "execution_count": 26,
     "metadata": {},
     "output_type": "execute_result"
    }
   ],
   "source": [
    "X1=train.drop(['Profit'],axis=1)\n",
    "series_before = pd.Series([variance_inflation_factor(X1.values, i) \n",
    "\n",
    "                         for i in range(X1.shape[1])], index=X1.columns)\n",
    "series_before"
   ]
  },
  {
   "cell_type": "code",
   "execution_count": 28,
   "id": "99dc4143",
   "metadata": {},
   "outputs": [
    {
     "data": {
      "text/html": [
       "<div>\n",
       "<style scoped>\n",
       "    .dataframe tbody tr th:only-of-type {\n",
       "        vertical-align: middle;\n",
       "    }\n",
       "\n",
       "    .dataframe tbody tr th {\n",
       "        vertical-align: top;\n",
       "    }\n",
       "\n",
       "    .dataframe thead th {\n",
       "        text-align: right;\n",
       "    }\n",
       "</style>\n",
       "<table border=\"1\" class=\"dataframe\">\n",
       "  <thead>\n",
       "    <tr style=\"text-align: right;\">\n",
       "      <th></th>\n",
       "      <th>R&amp;D Spend</th>\n",
       "      <th>Administration</th>\n",
       "      <th>Marketing Spend</th>\n",
       "      <th>State</th>\n",
       "      <th>Profit</th>\n",
       "      <th>fitted_value</th>\n",
       "      <th>residual</th>\n",
       "    </tr>\n",
       "  </thead>\n",
       "  <tbody>\n",
       "    <tr>\n",
       "      <th>0</th>\n",
       "      <td>165349.20</td>\n",
       "      <td>136897.80</td>\n",
       "      <td>471784.10</td>\n",
       "      <td>2</td>\n",
       "      <td>192261.83</td>\n",
       "      <td>190174.797479</td>\n",
       "      <td>2087.032521</td>\n",
       "    </tr>\n",
       "    <tr>\n",
       "      <th>11</th>\n",
       "      <td>100671.96</td>\n",
       "      <td>91790.61</td>\n",
       "      <td>249744.55</td>\n",
       "      <td>0</td>\n",
       "      <td>144259.40</td>\n",
       "      <td>135270.119067</td>\n",
       "      <td>8989.280933</td>\n",
       "    </tr>\n",
       "    <tr>\n",
       "      <th>18</th>\n",
       "      <td>91749.16</td>\n",
       "      <td>114175.79</td>\n",
       "      <td>294919.57</td>\n",
       "      <td>1</td>\n",
       "      <td>124266.90</td>\n",
       "      <td>127695.530780</td>\n",
       "      <td>-3428.630780</td>\n",
       "    </tr>\n",
       "    <tr>\n",
       "      <th>45</th>\n",
       "      <td>1000.23</td>\n",
       "      <td>124153.04</td>\n",
       "      <td>1903.93</td>\n",
       "      <td>2</td>\n",
       "      <td>64926.08</td>\n",
       "      <td>50658.526452</td>\n",
       "      <td>14267.553548</td>\n",
       "    </tr>\n",
       "    <tr>\n",
       "      <th>38</th>\n",
       "      <td>20229.59</td>\n",
       "      <td>65947.93</td>\n",
       "      <td>185265.10</td>\n",
       "      <td>2</td>\n",
       "      <td>81229.06</td>\n",
       "      <td>66982.380514</td>\n",
       "      <td>14246.679486</td>\n",
       "    </tr>\n",
       "  </tbody>\n",
       "</table>\n",
       "</div>"
      ],
      "text/plain": [
       "    R&D Spend  Administration  Marketing Spend  State     Profit  \\\n",
       "0   165349.20       136897.80        471784.10      2  192261.83   \n",
       "11  100671.96        91790.61        249744.55      0  144259.40   \n",
       "18   91749.16       114175.79        294919.57      1  124266.90   \n",
       "45    1000.23       124153.04          1903.93      2   64926.08   \n",
       "38   20229.59        65947.93        185265.10      2   81229.06   \n",
       "\n",
       "     fitted_value      residual  \n",
       "0   190174.797479   2087.032521  \n",
       "11  135270.119067   8989.280933  \n",
       "18  127695.530780  -3428.630780  \n",
       "45   50658.526452  14267.553548  \n",
       "38   66982.380514  14246.679486  "
      ]
     },
     "execution_count": 28,
     "metadata": {},
     "output_type": "execute_result"
    }
   ],
   "source": [
    "train['fitted_value']=fmodel.fittedvalues #Predicted Value\n",
    "train['residual']=fmodel.resid  #Error\n",
    "train.head()"
   ]
  },
  {
   "cell_type": "markdown",
   "id": "b12b2c4b",
   "metadata": {},
   "source": [
    "## Homoscedasicity"
   ]
  },
  {
   "cell_type": "code",
   "execution_count": 29,
   "id": "b83d02c5",
   "metadata": {},
   "outputs": [
    {
     "name": "stderr",
     "output_type": "stream",
     "text": [
      "*c* argument looks like a single numeric RGB or RGBA sequence, which should be avoided as value-mapping will have precedence in case its length matches with *x* & *y*.  Please use the *color* keyword-argument or provide a 2-D array with a single row if you intend to specify the same RGB or RGBA value for all points.\n"
     ]
    },
    {
     "data": {
      "image/png": "[encoded data removed]",
      "text/plain": [
       "<Figure size 432x288 with 1 Axes>"
      ]
     },
     "metadata": {},
     "output_type": "display_data"
    }
   ],
   "source": [
    "p = train.plot.scatter(x='fitted_value',y='residual')\n",
    "plt.xlabel('Fitted values')\n",
    "plt.ylabel('Residuals')\n",
    "p = plt.title('Residuals vs fitted values plot for homoscedasticity check')\n",
    "plt.show()"
   ]
  },
  {
   "cell_type": "markdown",
   "id": "99a0488f",
   "metadata": {},
   "source": [
    "## Normality"
   ]
  },
  {
   "cell_type": "code",
   "execution_count": 30,
   "id": "ac8e3c01",
   "metadata": {},
   "outputs": [
    {
     "data": {
      "image/png": "[encoded data removed]",
      "text/plain": [
       "<Figure size 432x288 with 1 Axes>"
      ]
     },
     "metadata": {},
     "output_type": "display_data"
    }
   ],
   "source": [
    "import pylab\n",
    "# check for the normality of the residuals\n",
    "sm.qqplot(fmodel.resid, line='s')\n",
    "pylab.show()"
   ]
  },
  {
   "cell_type": "markdown",
   "id": "3281cc24",
   "metadata": {},
   "source": [
    "## Model Error has to be independently identificaly Distibuted"
   ]
  },
  {
   "cell_type": "code",
   "execution_count": 31,
   "id": "4c5b737a",
   "metadata": {},
   "outputs": [
    {
     "data": {
      "image/png": "[encoded data removed]",
      "text/plain": [
       "<Figure size 432x288 with 1 Axes>"
      ]
     },
     "metadata": {},
     "output_type": "display_data"
    }
   ],
   "source": [
    "train['residual'].plot.hist()\n",
    "plt.show()"
   ]
  },
  {
   "cell_type": "code",
   "execution_count": 75,
   "id": "2ffd3004",
   "metadata": {},
   "outputs": [
    {
     "data": {
      "text/plain": [
       "0.8958239238522501"
      ]
     },
     "execution_count": 75,
     "metadata": {},
     "output_type": "execute_result"
    }
   ],
   "source": [
    "from sklearn.linear_model import LinearRegression\n",
    "lr = LinearRegression()\n",
    "\n",
    "lr.fit(X_train,Y_train)\n",
    "\n",
    "\n",
    "y_pred_train = lr.predict(X_train)\n",
    "y_pred_test = lr.predict(X_test)\n",
    "\n",
    "\n",
    "\n",
    "from sklearn.metrics import r2_score\n",
    "r2_score(Y_test,y_pred_test)"
   ]
  },
  {
   "cell_type": "markdown",
   "id": "342f006f",
   "metadata": {},
   "source": [
    "## Prediction on Test Data (unseen data)"
   ]
  },
  {
   "cell_type": "code",
   "execution_count": 52,
   "id": "0d93b064",
   "metadata": {},
   "outputs": [],
   "source": [
    "test = pd.concat([X_test, Y_test], axis=1)"
   ]
  },
  {
   "cell_type": "code",
   "execution_count": 54,
   "id": "9f408334",
   "metadata": {},
   "outputs": [
    {
     "data": {
      "text/html": [
       "<div>\n",
       "<style scoped>\n",
       "    .dataframe tbody tr th:only-of-type {\n",
       "        vertical-align: middle;\n",
       "    }\n",
       "\n",
       "    .dataframe tbody tr th {\n",
       "        vertical-align: top;\n",
       "    }\n",
       "\n",
       "    .dataframe thead th {\n",
       "        text-align: right;\n",
       "    }\n",
       "</style>\n",
       "<table border=\"1\" class=\"dataframe\">\n",
       "  <thead>\n",
       "    <tr style=\"text-align: right;\">\n",
       "      <th></th>\n",
       "      <th>R&amp;D Spend</th>\n",
       "      <th>Administration</th>\n",
       "      <th>Marketing Spend</th>\n",
       "      <th>State</th>\n",
       "      <th>Profit</th>\n",
       "      <th>Prediction</th>\n",
       "    </tr>\n",
       "  </thead>\n",
       "  <tbody>\n",
       "    <tr>\n",
       "      <th>6</th>\n",
       "      <td>134615.46</td>\n",
       "      <td>147198.87</td>\n",
       "      <td>127716.82</td>\n",
       "      <td>0</td>\n",
       "      <td>156122.51</td>\n",
       "      <td>164084.845108</td>\n",
       "    </tr>\n",
       "    <tr>\n",
       "      <th>36</th>\n",
       "      <td>28663.76</td>\n",
       "      <td>127056.21</td>\n",
       "      <td>201126.82</td>\n",
       "      <td>1</td>\n",
       "      <td>90708.19</td>\n",
       "      <td>74142.169514</td>\n",
       "    </tr>\n",
       "    <tr>\n",
       "      <th>37</th>\n",
       "      <td>44069.95</td>\n",
       "      <td>51283.14</td>\n",
       "      <td>197029.42</td>\n",
       "      <td>0</td>\n",
       "      <td>89949.14</td>\n",
       "      <td>87220.524550</td>\n",
       "    </tr>\n",
       "    <tr>\n",
       "      <th>28</th>\n",
       "      <td>66051.52</td>\n",
       "      <td>182645.56</td>\n",
       "      <td>118148.20</td>\n",
       "      <td>1</td>\n",
       "      <td>103282.38</td>\n",
       "      <td>105880.736888</td>\n",
       "    </tr>\n",
       "    <tr>\n",
       "      <th>43</th>\n",
       "      <td>15505.73</td>\n",
       "      <td>127382.30</td>\n",
       "      <td>35534.17</td>\n",
       "      <td>2</td>\n",
       "      <td>69758.98</td>\n",
       "      <td>62972.283389</td>\n",
       "    </tr>\n",
       "  </tbody>\n",
       "</table>\n",
       "</div>"
      ],
      "text/plain": [
       "    R&D Spend  Administration  Marketing Spend  State     Profit  \\\n",
       "6   134615.46       147198.87        127716.82      0  156122.51   \n",
       "36   28663.76       127056.21        201126.82      1   90708.19   \n",
       "37   44069.95        51283.14        197029.42      0   89949.14   \n",
       "28   66051.52       182645.56        118148.20      1  103282.38   \n",
       "43   15505.73       127382.30         35534.17      2   69758.98   \n",
       "\n",
       "       Prediction  \n",
       "6   164084.845108  \n",
       "36   74142.169514  \n",
       "37   87220.524550  \n",
       "28  105880.736888  \n",
       "43   62972.283389  "
      ]
     },
     "execution_count": 54,
     "metadata": {},
     "output_type": "execute_result"
    }
   ],
   "source": [
    "test['Prediction']=fmodel.predict(test)\n",
    "test.head()"
   ]
  },
  {
   "cell_type": "markdown",
   "id": "3f59a28c",
   "metadata": {},
   "source": [
    "### MSE & MAE & RMSE for evaluation of Model on train data"
   ]
  },
  {
   "cell_type": "code",
   "execution_count": 59,
   "id": "4a4eb766",
   "metadata": {},
   "outputs": [
    {
     "name": "stdout",
     "output_type": "stream",
     "text": [
      "RMSE 8.05e+03\n"
     ]
    }
   ],
   "source": [
    "import math\n",
    "from sklearn.metrics import mean_squared_error, r2_score, mean_absolute_error\n",
    "\n",
    "# calculate the mean squared error\n",
    "model_mse = mean_squared_error(train['Profit'],train['fitted_value'])\n",
    "\n",
    "# calulcate the root mean squared error\n",
    "model_rmse = math.sqrt(model_mse)\n",
    "# display the output\n",
    "print(\"RMSE {:.3}\".format(model_rmse))"
   ]
  }
 ],
 "metadata": {
  "kernelspec": {
   "display_name": "Python 3",
   "language": "python",
   "name": "python3"
  },
  "language_info": {
   "codemirror_mode": {
    "name": "ipython",
    "version": 3
   },
   "file_extension": ".py",
   "mimetype": "text/x-python",
   "name": "python",
   "nbconvert_exporter": "python",
   "pygments_lexer": "ipython3",
   "version": "3.8.8"
  }
 },
 "nbformat": 4,
 "nbformat_minor": 5
}
